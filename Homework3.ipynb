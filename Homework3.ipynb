{
 "cells": [
  {
   "cell_type": "markdown",
   "id": "7a7212f9",
   "metadata": {},
   "source": [
    "# Homework 3"
   ]
  },
  {
   "cell_type": "code",
   "execution_count": null,
   "id": "f75cc0b1",
   "metadata": {},
   "outputs": [],
   "source": [
    "# Please provide the information to identify this assignment in this comment cell/section\n",
    "# Student name: Yunhan Zhang\n",
    "# Assignment submisision date: Sep 28, 2022"
   ]
  },
  {
   "cell_type": "code",
   "execution_count": 58,
   "id": "13a17732",
   "metadata": {},
   "outputs": [],
   "source": [
    "#importing necessary libraries\n",
    "import pandas as pd            \n",
    "import numpy as np\n",
    "import matplotlib\n",
    "import matplotlib.pyplot as plt\n",
    "import seaborn as sns"
   ]
  },
  {
   "cell_type": "code",
   "execution_count": 3,
   "id": "d56d4805",
   "metadata": {},
   "outputs": [],
   "source": [
    "# NOTE: Please make sure that the olympics1992_2008.zip file has been uploaded to the same folder where you have this \n",
    "#       notebook file\n",
    "odata = pd.read_csv('olympics1992_2008.csv',skiprows=4)"
   ]
  },
  {
   "cell_type": "code",
   "execution_count": 4,
   "id": "cd108412",
   "metadata": {},
   "outputs": [
    {
     "name": "stdout",
     "output_type": "stream",
     "text": [
      "<class 'pandas.core.frame.DataFrame'>\n",
      "RangeIndex: 9619 entries, 0 to 9618\n",
      "Data columns (total 10 columns):\n",
      " #   Column        Non-Null Count  Dtype \n",
      "---  ------        --------------  ----- \n",
      " 0   City          9619 non-null   object\n",
      " 1   Edition       9619 non-null   int64 \n",
      " 2   Sport         9619 non-null   object\n",
      " 3   Discipline    9619 non-null   object\n",
      " 4   Athlete       9619 non-null   object\n",
      " 5   NOC           9619 non-null   object\n",
      " 6   Gender        9619 non-null   object\n",
      " 7   Event         9619 non-null   object\n",
      " 8   Event_gender  9619 non-null   object\n",
      " 9   Medal         9619 non-null   object\n",
      "dtypes: int64(1), object(9)\n",
      "memory usage: 751.6+ KB\n"
     ]
    }
   ],
   "source": [
    "# Start exploratory data analysis\n",
    "odata.info()"
   ]
  },
  {
   "cell_type": "code",
   "execution_count": 5,
   "id": "19f6aa52",
   "metadata": {},
   "outputs": [
    {
     "data": {
      "text/html": [
       "<div>\n",
       "<style scoped>\n",
       "    .dataframe tbody tr th:only-of-type {\n",
       "        vertical-align: middle;\n",
       "    }\n",
       "\n",
       "    .dataframe tbody tr th {\n",
       "        vertical-align: top;\n",
       "    }\n",
       "\n",
       "    .dataframe thead th {\n",
       "        text-align: right;\n",
       "    }\n",
       "</style>\n",
       "<table border=\"1\" class=\"dataframe\">\n",
       "  <thead>\n",
       "    <tr style=\"text-align: right;\">\n",
       "      <th></th>\n",
       "      <th>City</th>\n",
       "      <th>Edition</th>\n",
       "      <th>Sport</th>\n",
       "      <th>Discipline</th>\n",
       "      <th>Athlete</th>\n",
       "      <th>NOC</th>\n",
       "      <th>Gender</th>\n",
       "      <th>Event</th>\n",
       "      <th>Event_gender</th>\n",
       "      <th>Medal</th>\n",
       "    </tr>\n",
       "  </thead>\n",
       "  <tbody>\n",
       "    <tr>\n",
       "      <th>0</th>\n",
       "      <td>Barcelona</td>\n",
       "      <td>1992</td>\n",
       "      <td>Aquatics</td>\n",
       "      <td>Diving</td>\n",
       "      <td>XIONG, Ni</td>\n",
       "      <td>CHN</td>\n",
       "      <td>Men</td>\n",
       "      <td>10m platform</td>\n",
       "      <td>M</td>\n",
       "      <td>Bronze</td>\n",
       "    </tr>\n",
       "    <tr>\n",
       "      <th>1</th>\n",
       "      <td>Barcelona</td>\n",
       "      <td>1992</td>\n",
       "      <td>Aquatics</td>\n",
       "      <td>Diving</td>\n",
       "      <td>SUN, Shuwei</td>\n",
       "      <td>CHN</td>\n",
       "      <td>Men</td>\n",
       "      <td>10m platform</td>\n",
       "      <td>M</td>\n",
       "      <td>Gold</td>\n",
       "    </tr>\n",
       "    <tr>\n",
       "      <th>2</th>\n",
       "      <td>Barcelona</td>\n",
       "      <td>1992</td>\n",
       "      <td>Aquatics</td>\n",
       "      <td>Diving</td>\n",
       "      <td>DONIE, Scott R.</td>\n",
       "      <td>USA</td>\n",
       "      <td>Men</td>\n",
       "      <td>10m platform</td>\n",
       "      <td>M</td>\n",
       "      <td>Silver</td>\n",
       "    </tr>\n",
       "    <tr>\n",
       "      <th>3</th>\n",
       "      <td>Barcelona</td>\n",
       "      <td>1992</td>\n",
       "      <td>Aquatics</td>\n",
       "      <td>Diving</td>\n",
       "      <td>CLARK, Mary Ellen</td>\n",
       "      <td>USA</td>\n",
       "      <td>Women</td>\n",
       "      <td>10m platform</td>\n",
       "      <td>W</td>\n",
       "      <td>Bronze</td>\n",
       "    </tr>\n",
       "    <tr>\n",
       "      <th>4</th>\n",
       "      <td>Barcelona</td>\n",
       "      <td>1992</td>\n",
       "      <td>Aquatics</td>\n",
       "      <td>Diving</td>\n",
       "      <td>FU, Mingxia</td>\n",
       "      <td>CHN</td>\n",
       "      <td>Women</td>\n",
       "      <td>10m platform</td>\n",
       "      <td>W</td>\n",
       "      <td>Gold</td>\n",
       "    </tr>\n",
       "  </tbody>\n",
       "</table>\n",
       "</div>"
      ],
      "text/plain": [
       "        City  Edition     Sport Discipline            Athlete  NOC Gender  \\\n",
       "0  Barcelona     1992  Aquatics     Diving          XIONG, Ni  CHN    Men   \n",
       "1  Barcelona     1992  Aquatics     Diving        SUN, Shuwei  CHN    Men   \n",
       "2  Barcelona     1992  Aquatics     Diving    DONIE, Scott R.  USA    Men   \n",
       "3  Barcelona     1992  Aquatics     Diving  CLARK, Mary Ellen  USA  Women   \n",
       "4  Barcelona     1992  Aquatics     Diving        FU, Mingxia  CHN  Women   \n",
       "\n",
       "          Event Event_gender   Medal  \n",
       "0  10m platform            M  Bronze  \n",
       "1  10m platform            M    Gold  \n",
       "2  10m platform            M  Silver  \n",
       "3  10m platform            W  Bronze  \n",
       "4  10m platform            W    Gold  "
      ]
     },
     "execution_count": 5,
     "metadata": {},
     "output_type": "execute_result"
    }
   ],
   "source": [
    "odata.head()"
   ]
  },
  {
   "cell_type": "code",
   "execution_count": null,
   "id": "7e2f8e7a",
   "metadata": {},
   "outputs": [],
   "source": [
    "# Add cells with any additional exploratory data analysis commands/functions that you think are necessary. This will\n",
    "# not be graded but will help you in solving this homework's tasks\n",
    "# Hint.. get the unique entries for columns of interest\n"
   ]
  },
  {
   "cell_type": "markdown",
   "id": "b1190e9c",
   "metadata": {
    "deletable": false,
    "editable": false
   },
   "source": [
    "Solve the following tasks.  You can add as many additional cells as  you need to solve each one of them."
   ]
  },
  {
   "cell_type": "markdown",
   "id": "d93e3dd2",
   "metadata": {},
   "source": [
    "## Task #1 (30 points)"
   ]
  },
  {
   "cell_type": "markdown",
   "id": "2ab52903",
   "metadata": {},
   "source": [
    "a) List the 5 countries that accumulated the most medals across all the olympic game editions covered in the dataset\n",
    "\n",
    "b) List the 5 countries that accumulated the most GOLD medals across all the olympic game editions covered in the dataset"
   ]
  },
  {
   "cell_type": "code",
   "execution_count": 21,
   "id": "6e795ed5",
   "metadata": {},
   "outputs": [
    {
     "name": "stdout",
     "output_type": "stream",
     "text": [
      "  index  Medal\n",
      "0   USA   1311\n",
      "1   GER    691\n",
      "2   AUS    678\n",
      "3   RUS    638\n",
      "4   CHN    550\n"
     ]
    }
   ],
   "source": [
    "print(odata.NOC.value_counts().reset_index(name='Medal').head())"
   ]
  },
  {
   "cell_type": "code",
   "execution_count": 26,
   "id": "98e58f98",
   "metadata": {},
   "outputs": [
    {
     "name": "stdout",
     "output_type": "stream",
     "text": [
      "  index  GoldMedals\n",
      "0   USA         620\n",
      "1   GER         237\n",
      "2   CHN         202\n",
      "3   RUS         192\n",
      "4   AUS         186\n"
     ]
    }
   ],
   "source": [
    "goldMedals = odata[(odata.Medal == 'Gold')]\n",
    "print(goldMedals.NOC.value_counts().reset_index(name='GoldMedals').head())"
   ]
  },
  {
   "cell_type": "markdown",
   "id": "d6d35fe2",
   "metadata": {},
   "source": [
    "## Task #2 (15 points)"
   ]
  },
  {
   "cell_type": "markdown",
   "id": "2b8ee4c6",
   "metadata": {},
   "source": [
    "List the number of Gold, Silver and Bronze medals obtained by Women and Men across all the olympic game editions covered in the dataset"
   ]
  },
  {
   "cell_type": "code",
   "execution_count": 34,
   "id": "a661e197",
   "metadata": {},
   "outputs": [
    {
     "data": {
      "text/plain": [
       "1357"
      ]
     },
     "execution_count": 34,
     "metadata": {},
     "output_type": "execute_result"
    }
   ],
   "source": [
    "womenMedals = odata[(odata.Gender == 'Women')]\n",
    "womenGold = womenMedals[(womenMedals.Medal == 'Gold')]\n",
    "len(womenGold)"
   ]
  },
  {
   "cell_type": "markdown",
   "id": "6b03fa47",
   "metadata": {},
   "source": [
    "womenGold is 1357"
   ]
  },
  {
   "cell_type": "code",
   "execution_count": 40,
   "id": "33f473be",
   "metadata": {},
   "outputs": [
    {
     "data": {
      "text/plain": [
       "1354"
      ]
     },
     "execution_count": 40,
     "metadata": {},
     "output_type": "execute_result"
    }
   ],
   "source": [
    "womenSilver = womenMedals[(womenMedals.Medal == 'Silver')]\n",
    "len(womenSilver)"
   ]
  },
  {
   "cell_type": "markdown",
   "id": "d698818a",
   "metadata": {},
   "source": [
    "womenSilver is 1354"
   ]
  },
  {
   "cell_type": "code",
   "execution_count": 38,
   "id": "3982fcf0",
   "metadata": {},
   "outputs": [
    {
     "data": {
      "text/plain": [
       "1386"
      ]
     },
     "execution_count": 38,
     "metadata": {},
     "output_type": "execute_result"
    }
   ],
   "source": [
    "womenBronze = womenMedals[(womenMedals.Medal == 'Bronze')]\n",
    "len(womenBronze)"
   ]
  },
  {
   "cell_type": "markdown",
   "id": "c01de45f",
   "metadata": {},
   "source": [
    "womenBronze is 1386"
   ]
  },
  {
   "cell_type": "code",
   "execution_count": 41,
   "id": "047ac260",
   "metadata": {},
   "outputs": [
    {
     "data": {
      "text/plain": [
       "1807"
      ]
     },
     "execution_count": 41,
     "metadata": {},
     "output_type": "execute_result"
    }
   ],
   "source": [
    "menMedals = odata[(odata.Gender == 'Men')]\n",
    "menGold = menMedals[(menMedals.Medal == 'Gold')]\n",
    "len(menGold)"
   ]
  },
  {
   "cell_type": "markdown",
   "id": "6a18b171",
   "metadata": {},
   "source": [
    "menGold is 1807"
   ]
  },
  {
   "cell_type": "code",
   "execution_count": 42,
   "id": "61d314cc",
   "metadata": {},
   "outputs": [
    {
     "data": {
      "text/plain": [
       "1797"
      ]
     },
     "execution_count": 42,
     "metadata": {},
     "output_type": "execute_result"
    }
   ],
   "source": [
    "menSilver = menMedals[(menMedals.Medal == 'Silver')]\n",
    "len(menSilver)"
   ]
  },
  {
   "cell_type": "markdown",
   "id": "71cdc9b2",
   "metadata": {},
   "source": [
    "menSilver is 1797"
   ]
  },
  {
   "cell_type": "code",
   "execution_count": 43,
   "id": "4bdf0a64",
   "metadata": {},
   "outputs": [
    {
     "data": {
      "text/plain": [
       "1918"
      ]
     },
     "execution_count": 43,
     "metadata": {},
     "output_type": "execute_result"
    }
   ],
   "source": [
    "menBronze = menMedals[(menMedals.Medal == 'Bronze')]\n",
    "len(menBronze)"
   ]
  },
  {
   "cell_type": "markdown",
   "id": "9b4505c9",
   "metadata": {},
   "source": [
    "menBronze is 1918"
   ]
  },
  {
   "cell_type": "markdown",
   "id": "cbbb37a2",
   "metadata": {},
   "source": [
    "## Task #3 (15 points)"
   ]
  },
  {
   "cell_type": "markdown",
   "id": "88f341be",
   "metadata": {},
   "source": [
    "List the names of the 5 male athletes and 5 female athletes that obtained the most medals across all the olympic game editions covered in the dataset"
   ]
  },
  {
   "cell_type": "code",
   "execution_count": 50,
   "id": "64166e6b",
   "metadata": {},
   "outputs": [
    {
     "name": "stdout",
     "output_type": "stream",
     "text": [
      "              index  Medal\n",
      "0   PHELPS, Michael     16\n",
      "1     NEMOV, Alexei     12\n",
      "2   SCHERBO, Vitaly     10\n",
      "3    HALL, Gary Jr.     10\n",
      "4  POPOV, Alexander      9\n"
     ]
    }
   ],
   "source": [
    "menMedals = odata[(odata.Gender == 'Men')]\n",
    "print(menMedals.Athlete.value_counts().reset_index(name='Medal').head())"
   ]
  },
  {
   "cell_type": "code",
   "execution_count": 51,
   "id": "5bbd8985",
   "metadata": {},
   "outputs": [
    {
     "name": "stdout",
     "output_type": "stream",
     "text": [
      "                    index  Medal\n",
      "0         THOMPSON, Jenny     12\n",
      "1       COUGHLIN, Natalie     11\n",
      "2  VAN ALMSICK, Franziska     10\n",
      "3            TORRES, Dara      9\n",
      "4          THOMAS, Petria      8\n"
     ]
    }
   ],
   "source": [
    "womenMedals = odata[(odata.Gender == 'Women')]\n",
    "print(womenMedals.Athlete.value_counts().reset_index(name='Medal').head())"
   ]
  },
  {
   "cell_type": "markdown",
   "id": "4bd0cb77",
   "metadata": {},
   "source": [
    "## Task #4 (40 points)"
   ]
  },
  {
   "cell_type": "markdown",
   "id": "63bcebcf",
   "metadata": {},
   "source": [
    "Provide two additional analysis results that you can derive from the dataset (they must be different than those obtained in tasks 1 to 3). The results can include graphs (but it is not required). Describe the results obtained in the cell provided for that purpose"
   ]
  },
  {
   "cell_type": "code",
   "execution_count": 56,
   "id": "1bb79307",
   "metadata": {},
   "outputs": [
    {
     "data": {
      "text/plain": [
       "202"
      ]
     },
     "execution_count": 56,
     "metadata": {},
     "output_type": "execute_result"
    }
   ],
   "source": [
    "CHNMedal = goldMedals[goldMedals['NOC'] == 'CHN']\n",
    "len(CHNMedal)"
   ]
  },
  {
   "cell_type": "code",
   "execution_count": 66,
   "id": "c3c05e32",
   "metadata": {},
   "outputs": [
    {
     "data": {
      "image/png": "[encoded data removed]",
      "text/plain": [
       "<Figure size 432x432 with 1 Axes>"
      ]
     },
     "metadata": {
      "needs_background": "light"
     },
     "output_type": "display_data"
    }
   ],
   "source": [
    "totalGold = goldMedals.NOC.value_counts().reset_index(name='Medal').head(10)\n",
    "g = sns.catplot(x = \"index\", y = \"Medal\", data = totalGold, height = 6, kind = \"bar\")\n",
    "g.set_xlabels(\"Top 10 countries\")\n",
    "g.set_ylabels(\"Number of Medals\")\n",
    "plt.show()"
   ]
  },
  {
   "cell_type": "markdown",
   "id": "4cbed56d",
   "metadata": {},
   "source": [
    "**RESULTS DESCRIPTION**\n"
   ]
  },
  {
   "cell_type": "markdown",
   "id": "306248af",
   "metadata": {},
   "source": [
    "The first cell in this question simply returns how many gold medals did Chinese athletes obtain across all the olympic game editions. The answer is '202'."
   ]
  },
  {
   "cell_type": "markdown",
   "id": "a316555e",
   "metadata": {},
   "source": [
    "The second cell in this question returns a graph shows top 10 countries who obtain the most gold medals."
   ]
  }
 ],
 "metadata": {
  "kernelspec": {
   "display_name": "Python 3 (ipykernel)",
   "language": "python",
   "name": "python3"
  },
  "language_info": {
   "codemirror_mode": {
    "name": "ipython",
    "version": 3
   },
   "file_extension": ".py",
   "mimetype": "text/x-python",
   "name": "python",
   "nbconvert_exporter": "python",
   "pygments_lexer": "ipython3",
   "version": "3.9.6"
  }
 },
 "nbformat": 4,
 "nbformat_minor": 5
}
