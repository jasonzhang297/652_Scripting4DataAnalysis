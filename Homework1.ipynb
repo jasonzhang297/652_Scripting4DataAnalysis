{
 "cells": [
  {
   "cell_type": "markdown",
   "id": "31c05689",
   "metadata": {},
   "source": [
    "# Homework 1 - IST 462 / 652 #"
   ]
  },
  {
   "cell_type": "markdown",
   "id": "3ebe3c7a",
   "metadata": {},
   "source": [
    "Complete the following tasks in the cells provided. If you need additional cells, please add them. To submit your solution, save it first (in JupyterHub), then download the notebook as a .ipynb file to your local computer system and submit it via Blackboard. (Use JupyterHub's \"File\" menu and the \"Download\" option in it to download the notebook file)"
   ]
  },
  {
   "cell_type": "markdown",
   "id": "b8f3923b",
   "metadata": {},
   "source": [
    "1. Create a string called *myfirstname* and store your first name in it"
   ]
  },
  {
   "cell_type": "code",
   "execution_count": 5,
   "id": "3adfe291",
   "metadata": {},
   "outputs": [
    {
     "data": {
      "text/plain": [
       "'Yunhan'"
      ]
     },
     "execution_count": 5,
     "metadata": {},
     "output_type": "execute_result"
    }
   ],
   "source": [
    "myfirstname = \"Yunhan\"\n",
    "myfirstname"
   ]
  },
  {
   "cell_type": "markdown",
   "id": "afb922f5",
   "metadata": {},
   "source": [
    "2. Create a string called *mylastname* and store your last name in it"
   ]
  },
  {
   "cell_type": "code",
   "execution_count": 6,
   "id": "4d669b3b",
   "metadata": {},
   "outputs": [
    {
     "data": {
      "text/plain": [
       "'Zhang'"
      ]
     },
     "execution_count": 6,
     "metadata": {},
     "output_type": "execute_result"
    }
   ],
   "source": [
    "mylastname = \"Zhang\"\n",
    "mylastname"
   ]
  },
  {
   "cell_type": "markdown",
   "id": "cd22e1f2",
   "metadata": {},
   "source": [
    "3. Create a string called *myname* that concatenates the strings *myfirstname* and *mylastname* that you created previously"
   ]
  },
  {
   "cell_type": "code",
   "execution_count": 7,
   "id": "56e9acb8",
   "metadata": {},
   "outputs": [
    {
     "data": {
      "text/plain": [
       "'YunhanZhang'"
      ]
     },
     "execution_count": 7,
     "metadata": {},
     "output_type": "execute_result"
    }
   ],
   "source": [
    "myname = myfirstname + mylastname\n",
    "myname"
   ]
  },
  {
   "cell_type": "markdown",
   "id": "d97f2a52",
   "metadata": {},
   "source": [
    "<br>\n",
    "4. Use the appropriate methods seen in the class session to do the following on the string *myname*:"
   ]
  },
  {
   "cell_type": "markdown",
   "id": "8fc95c33",
   "metadata": {},
   "source": [
    "4a. Print out the number of characters (i.e. the length) that make up *myname*"
   ]
  },
  {
   "cell_type": "code",
   "execution_count": 8,
   "id": "5682eec8",
   "metadata": {},
   "outputs": [
    {
     "data": {
      "text/plain": [
       "11"
      ]
     },
     "execution_count": 8,
     "metadata": {},
     "output_type": "execute_result"
    }
   ],
   "source": [
    "len(myname)"
   ]
  },
  {
   "cell_type": "markdown",
   "id": "1b3c3944",
   "metadata": {},
   "source": [
    "4b. Derive a substring composed of the letters in positions 2 to 5 from *myname*. The characters in positions 2 and 5 must be included"
   ]
  },
  {
   "cell_type": "code",
   "execution_count": 9,
   "id": "fd2c475e",
   "metadata": {},
   "outputs": [
    {
     "data": {
      "text/plain": [
       "'nhan'"
      ]
     },
     "execution_count": 9,
     "metadata": {},
     "output_type": "execute_result"
    }
   ],
   "source": [
    "myname[2:6]"
   ]
  },
  {
   "cell_type": "markdown",
   "id": "84f35b38",
   "metadata": {},
   "source": [
    "4c. Choose a letter that is present in myname and replace it with the character X"
   ]
  },
  {
   "cell_type": "code",
   "execution_count": 10,
   "id": "de122f35",
   "metadata": {},
   "outputs": [
    {
     "data": {
      "text/plain": [
       "'YunhanXhang'"
      ]
     },
     "execution_count": 10,
     "metadata": {},
     "output_type": "execute_result"
    }
   ],
   "source": [
    "myname.replace(\"Z\",\"X\")"
   ]
  },
  {
   "cell_type": "markdown",
   "id": "3a622275",
   "metadata": {},
   "source": [
    "<br>\n",
    "5. Create a list called *WeekDays* that contains the names of the day of the week."
   ]
  },
  {
   "cell_type": "code",
   "execution_count": 11,
   "id": "61609d71",
   "metadata": {},
   "outputs": [
    {
     "data": {
      "text/plain": [
       "['Monday', 'Tuesday', 'Wednesday', 'Thursday', 'Friday', 'Saturday', 'Sunday']"
      ]
     },
     "execution_count": 11,
     "metadata": {},
     "output_type": "execute_result"
    }
   ],
   "source": [
    "WeekDays = [\"Monday\",\"Tuesday\",\"Wednesday\",\"Thursday\",\"Friday\",\"Saturday\",\"Sunday\"]\n",
    "WeekDays"
   ]
  },
  {
   "cell_type": "markdown",
   "id": "5e737e19",
   "metadata": {},
   "source": [
    "<br>\n",
    "6. Create a dictionary that uses the course numbers of the courses you are taking this semester as the keys of the dictionary and for each key associate as its value the day of the week in which you have that class. As an example for IST 652, the entry would be    *652 : Wednesday*"
   ]
  },
  {
   "cell_type": "code",
   "execution_count": 14,
   "id": "1b2d655b",
   "metadata": {},
   "outputs": [
    {
     "data": {
      "text/plain": [
       "'IST-652: Wednesday'"
      ]
     },
     "execution_count": 14,
     "metadata": {},
     "output_type": "execute_result"
    }
   ],
   "source": [
    "d1={\"IST-664\":\"IST-652: Monday\",\"IST-718\":\"IST-652: Tuesday\",\"IST-652\":\"IST-652: Wednesday\"}\n",
    "d1[\"IST-652\"]"
   ]
  },
  {
   "cell_type": "markdown",
   "id": "8ee93a77",
   "metadata": {},
   "source": [
    "\\\n",
    "7. Do some research on how to use Markdown commands and write the text of the first three sections of your resume (example: education, objectives, past experience, etc.). You can use the following resource to learn about Markdown:\n",
    "- https://medium.com/analytics-vidhya/the-ultimate-markdown-guide-for-jupyter-notebook-d5e5abf728fd\n",
    "- Short video: https://www.youtube.com/watch?v=uVLzL5E-YBM\n",
    "- Long video/tutorial: https://www.youtube.com/watch?v=mTIifW_LU5s"
   ]
  },
  {
   "cell_type": "markdown",
   "id": "b070ee9a",
   "metadata": {},
   "source": [
    "# Yunhan Zhang\n",
    "New York, NY, 13210 &nbsp;&nbsp; (312)792-7953 &nbsp;&nbsp; yzhan297@syr.edu\n",
    "\n",
    "---\n",
    "## Education:\n",
    "Syracuse University, School of Information Studies <br>\n",
    "**M.S.** in Applied Data Science <br>\n",
    "<br>\n",
    "Illinois Institute of Technology, College of Computing <br>\n",
    "**B.S.** in Information Technology and Management <br>\n",
    "**Honors:** International scholarship for 5 years; Dean’s List & Semester Honors\n",
    "\n",
    "---\n",
    "## Work Experiences:\n",
    "**Garbo Technology Corp.** &nbsp;&nbsp;&nbsp;&nbsp;&nbsp;&nbsp;&nbsp;&nbsp;&nbsp;&nbsp; *Software Development Intern*\n",
    "- Implemented a Django web application, including data modeling and database designing, test and deploy a customer facing site.\n",
    "- Constructed SQL ETL to extract and clean data from databases and generate reports for engineering team.\n",
    "- Developed SQL templates and end-to-end ETL process to data collection, transformation, SQL queries generation, user performance analysis and visualization using Power BI.\n",
    "- Experienced in software development life cycle, source code version control and workflow, HTTP traffic protocols, CD/CI.\n",
    "\n",
    "**Shanghai Shenwan Hongyuan Securities Co., Ltd.** &nbsp;&nbsp;&nbsp;&nbsp;&nbsp;&nbsp;&nbsp;&nbsp;&nbsp;&nbsp; *Quantitative Research Intern*\n",
    "- Analyzed technical feasibility, possible benefits, and applicability of existing applications of data mining and machine learning for finance industry in stock predictions, risk assessment and trading strategies.\n",
    "- Completed SVM modeling and Regression Analysis of seasonal trading data.\n",
    "- Participated in the in-depth research and development of quantitative strategies, specifically involving the strategizing of trading ideas for stocks, data processing, strategy history backtesting and weekly strategy report writing.\n",
    "\n",
    "---\n",
    "## Project Experiences:\n",
    "**Fudgemart & Fudgeflix**\n",
    "- Built detail-level dimension modeling worksheet with fully completed dimensions and facts.\n",
    "- Identified sources for our source to target map.\n",
    "- Used SQL schema generated from detail-level dimensional modeling worksheet to construct data warehouse with the integrated Fact table.\n",
    "- Initialed ETL done in SSIS: Source to target map; Stage data; Load data to DW from stage.\n",
    "\n",
    "**Actionable Insights for Hotel Reservations**\n",
    "- Completed raw data processing and cleaning with R.\n",
    "- Used ggplots to demonstrate relation across all of the key drivers and mapping to visualize relation across guests from different countries.\n",
    "- Used Support-vector Machine and Regression Tree methods to build machine learning model to predict the cancellation in the future.\n",
    "- Held the final project presentation to stakeholders."
   ]
  }
 ],
 "metadata": {
  "kernelspec": {
   "display_name": "Python 3 (ipykernel)",
   "language": "python",
   "name": "python3"
  },
  "language_info": {
   "codemirror_mode": {
    "name": "ipython",
    "version": 3
   },
   "file_extension": ".py",
   "mimetype": "text/x-python",
   "name": "python",
   "nbconvert_exporter": "python",
   "pygments_lexer": "ipython3",
   "version": "3.9.6"
  }
 },
 "nbformat": 4,
 "nbformat_minor": 5
}
